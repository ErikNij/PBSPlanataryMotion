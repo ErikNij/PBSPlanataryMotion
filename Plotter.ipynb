{
 "cells": [
  {
   "cell_type": "code",
   "execution_count": 30,
   "metadata": {},
   "outputs": [
    {
     "name": "stdout",
     "output_type": "stream",
     "text": [
      "Ariel\n",
      "Umbriel\n",
      "Titania\n",
      "Oberon\n",
      "Miranda\n",
      "Cordelia\n",
      "Ophelia\n",
      "Bianca\n",
      "Cressida\n",
      "Desdemona\n",
      "Juliet\n",
      "Portia\n",
      "Rosalind\n",
      "Belinda\n",
      "Puck\n",
      "Caliban\n",
      "Sycorax\n",
      "Prospero\n",
      "Setebos\n",
      "Stephano\n",
      "Trinculo\n",
      "Francisco\n",
      "Margaret\n",
      "Ferdinand\n",
      "Perdita\n",
      "Mab\n",
      "Cupid\n",
      "Uranus\n"
     ]
    },
    {
     "data": {
      "image/png": "[encoded data removed]",
      "text/plain": [
       "<Figure size 432x288 with 1 Axes>"
      ]
     },
     "metadata": {
      "needs_background": "light"
     },
     "output_type": "display_data"
    }
   ],
   "source": [
    "import os\n",
    "import numpy as np\n",
    "import matplotlib.pyplot as plt\n",
    "import glob\n",
    "\n",
    "# Directory where the data files are located\n",
    "data_directory = \"createdData\"\n",
    "\n",
    "# Get a list of all .txt files in the directory\n",
    "data_files = glob.glob(os.path.join(data_directory, \"*.txt\"))\n",
    "\n",
    "# Extract planet names from file names\n",
    "planets_to_load = [os.path.splitext(os.path.basename(file))[0] for file in data_files]\n",
    "\n",
    "planets_to_load = [\"Sun\",\"Uranus\"]\n",
    "\n",
    "planets_to_load = [    \n",
    "    \"Ariel\",\n",
    "  \"Umbriel\",\n",
    "  \"Titania\",\n",
    "   \"Oberon\",\n",
    "  \"Miranda\",\n",
    " \"Cordelia\",\n",
    "  \"Ophelia\",\n",
    "   \"Bianca\",\n",
    " \"Cressida\",\n",
    "\"Desdemona\",\n",
    "   \"Juliet\",\n",
    "   \"Portia\",\n",
    " \"Rosalind\",\n",
    "  \"Belinda\",\n",
    "     \"Puck\",\n",
    "  \"Caliban\",\n",
    "  \"Sycorax\",\n",
    " \"Prospero\",\n",
    "  \"Setebos\",\n",
    " \"Stephano\",\n",
    " \"Trinculo\",\n",
    "\"Francisco\",\n",
    " \"Margaret\",\n",
    "\"Ferdinand\",\n",
    "  \"Perdita\",\n",
    "      \"Mab\",\n",
    "    \"Cupid\",\n",
    "    \"Uranus\"]\n",
    "\n",
    "# Create a plot\n",
    "\n",
    "plt.figure()\n",
    "centerPlanet = \"Uranus\"\n",
    "Centerdata = np.genfromtxt(os.path.join(data_directory, centerPlanet + \".txt\"), delimiter=',', usecols=(1, 2), names=[\"x\", \"y\"])\n",
    "\n",
    "# Iterate through each planet and plot its data\n",
    "for planet in planets_to_load:\n",
    "    #if planet == \"Uranus\":\n",
    "        print(planet)\n",
    "        data = np.genfromtxt(os.path.join(data_directory, planet + \".txt\"), delimiter=',', usecols=(1, 2), names=[\"x\", \"y\"])\n",
    "        plt.plot(data[\"x\"]-Centerdata[\"x\"], data[\"y\"]-Centerdata[\"y\"], label=planet)\n",
    "\n",
    "\n",
    "plt.xlabel(\"X Coordinate\")\n",
    "plt.ylabel(\"Y Coordinate\")\n",
    "plt.title(\"Planet Orbits\")\n",
    "plt.grid(True)\n",
    "#plt.legend()\n",
    "\n",
    "# Save the plot as an SVG file\n",
    "plt.savefig(\"planet_orbits.svg\", format=\"svg\")\n",
    "\n",
    "plt.show()\n"
   ]
  }
 ],
 "metadata": {
  "kernelspec": {
   "display_name": "Python 3",
   "language": "python",
   "name": "python3"
  },
  "language_info": {
   "codemirror_mode": {
    "name": "ipython",
    "version": 3
   },
   "file_extension": ".py",
   "mimetype": "text/x-python",
   "name": "python",
   "nbconvert_exporter": "python",
   "pygments_lexer": "ipython3",
   "version": "3.9.5"
  },
  "orig_nbformat": 4
 },
 "nbformat": 4,
 "nbformat_minor": 2
}
