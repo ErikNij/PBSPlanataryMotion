{
 "cells": [
  {
   "cell_type": "code",
   "execution_count": 229,
   "metadata": {},
   "outputs": [
    {
     "name": "stdout",
     "output_type": "stream",
     "text": [
      "2003J10\n",
      "2003J12\n",
      "2003J16\n",
      "2003J18\n",
      "2003J19\n",
      "2003J2\n",
      "2003J23\n",
      "2003J24\n",
      "2003J4\n",
      "2003J9\n",
      "2004S12\n",
      "2004S13\n",
      "2004S17\n",
      "2004S21\n",
      "2004S24\n",
      "2004S26\n",
      "2004S28\n",
      "2004S29\n",
      "2004S31\n",
      "2004S34\n",
      "2004S36\n",
      "2004S37\n",
      "2004S39\n",
      "2004S7\n",
      "2006S1\n",
      "2006S3\n",
      "2007S2\n",
      "2007S3\n",
      "2010J1\n",
      "2010J2\n",
      "2011J1\n",
      "2011J2\n",
      "2016J1\n",
      "2017J1\n",
      "2017J2\n",
      "2017J3\n",
      "2017J5\n",
      "2017J6\n",
      "2017J7\n",
      "2017J8\n",
      "2017J9\n",
      "2019S1\n",
      "Adrastea\n",
      "Aegaeon\n",
      "Aegir\n",
      "Aitne\n",
      "Albiorix\n",
      "Alvaldi\n",
      "Amalthea\n",
      "Ananke\n",
      "Angrboda\n",
      "Anthe\n",
      "Aoede\n",
      "Arche\n",
      "Ariel\n",
      "Atlas\n",
      "Autonoe\n",
      "Bebhionn\n",
      "Beli\n",
      "Belinda\n",
      "Bergelmir\n",
      "Bestla\n",
      "Bianca\n",
      "Caliban\n",
      "Callirrhoe\n",
      "Callisto\n",
      "Calypso\n",
      "Carme\n",
      "Carpo\n",
      "Ceres\n",
      "Chaldene\n",
      "Charon\n",
      "Cordelia\n",
      "Cressida\n",
      "Cupid\n",
      "Cybele\n",
      "Cyllene\n",
      "Davida\n",
      "Deimos\n",
      "Desdemona\n",
      "Despina\n",
      "Dia\n",
      "Dione\n",
      "Earth\n",
      "Eggther\n",
      "Eirene\n",
      "Elara\n",
      "Enceladus\n",
      "Epimetheus\n",
      "Erinome\n",
      "Erriapus\n",
      "Ersa\n",
      "Euanthe\n",
      "Eukelade\n",
      "Eunomia\n",
      "Eupheme\n",
      "Euporie\n",
      "Eurydome\n",
      "Farbauti\n",
      "Fenrir\n",
      "Ferdinand\n",
      "Fornjot\n",
      "Francisco\n",
      "Galatea\n",
      "Ganymede\n",
      "Geirrod\n",
      "Gerd\n",
      "Greip\n",
      "Gridr\n",
      "Gunnlod\n",
      "Halimede\n",
      "Harpalyke\n",
      "Hati\n",
      "Hegemone\n",
      "Helene\n",
      "Helike\n",
      "Hermippe\n",
      "Herse\n",
      "Himalia\n",
      "Hippocamp\n",
      "Hydra\n",
      "Hygiea\n",
      "Hyperion\n",
      "Hyrrokkin\n",
      "Iapetus\n",
      "Ijiraq\n",
      "Interamnia\n",
      "Io\n",
      "Iocaste\n",
      "Isonoe\n",
      "Janus\n",
      "Jarnsaxa\n",
      "Juliet\n",
      "Jupiter\n",
      "Kale\n",
      "Kallichore\n",
      "Kalyke\n",
      "Kari\n",
      "Kerberos\n",
      "Kiviuq\n",
      "Kore\n",
      "Laomedeia\n",
      "Larissa\n",
      "Leda\n",
      "Loge\n",
      "Lysithea\n",
      "Mab\n",
      "Margaret\n",
      "Mars\n",
      "Megaclite\n",
      "Mercury\n",
      "Methone\n",
      "Metis\n",
      "Mimas\n",
      "Miranda\n",
      "Mneme\n",
      "Moon\n",
      "Mundilfari\n",
      "Naiad\n",
      "Narvi\n",
      "Neptune\n",
      "Nereid\n",
      "Neso\n",
      "Nix\n",
      "Oberon\n",
      "Ophelia\n",
      "Orthosie\n",
      "Paaliaq\n",
      "Pallas\n",
      "Pallene\n",
      "Pan\n",
      "Pandia\n",
      "Pandora\n",
      "Pasiphae\n",
      "Pasithee\n",
      "Perdita\n",
      "Philophrosyne\n",
      "Phobos\n",
      "Phoebe\n",
      "Pluto\n",
      "Polydeuces\n",
      "Portia\n",
      "Praxidike\n",
      "Prometheus\n",
      "Prospero\n",
      "Proteus\n",
      "Psamathe\n",
      "Puck\n",
      "Rhea\n",
      "Rosalind\n",
      "Sao\n",
      "Saturn\n",
      "Setebos\n",
      "Siarnaq\n",
      "Sinope\n",
      "Skathi\n",
      "Skoll\n",
      "Skrymir\n",
      "Sponde\n",
      "Stephano\n",
      "Styx\n",
      "Sun\n",
      "Surtur\n",
      "Suttungr\n",
      "Sycorax\n",
      "Sylvia\n",
      "Tarqeq\n",
      "Tarvos\n",
      "Taygete\n",
      "Telesto\n",
      "Tethys\n",
      "Thalassa\n",
      "Thebe\n",
      "Thelxinoe\n",
      "Themisto\n",
      "Thiazzi\n",
      "Thrymr\n",
      "Thyone\n",
      "Titan\n",
      "Titania\n",
      "Trinculo\n",
      "Triton\n",
      "Umbriel\n",
      "Uranus\n",
      "Valetudo\n",
      "Venus\n",
      "Vesta\n",
      "Ymir\n"
     ]
    },
    {
     "data": {
      "image/png": "[encoded data removed]",
      "text/plain": [
       "<Figure size 432x288 with 1 Axes>"
      ]
     },
     "metadata": {
      "needs_background": "light"
     },
     "output_type": "display_data"
    }
   ],
   "source": [
    "import os\n",
    "import numpy as np\n",
    "import matplotlib.pyplot as plt\n",
    "import glob\n",
    "\n",
    "# Directory where the data files are located\n",
    "data_directory = \"createdData\"\n",
    "\n",
    "# Get a list of all .txt files in the directory\n",
    "data_files = glob.glob(os.path.join(data_directory, \"*.txt\"))\n",
    "\n",
    "# Extract planet names from file names\n",
    "planets_to_load = [os.path.splitext(os.path.basename(file))[0] for file in data_files]\n",
    "\n",
    "#planets_to_load = [\"Sun\",\"Mercury\"]\n",
    "\n",
    "#planets_to_load = [    \n",
    "#    \"Ariel\",\n",
    "#  \"Umbriel\",\n",
    "#  \"Titania\",\n",
    "#   \"Oberon\",\n",
    "#  \"Miranda\",\n",
    "# \"Cordelia\",\n",
    "#  \"Ophelia\",\n",
    "#   \"Bianca\",\n",
    "# \"Cressida\",\n",
    "#\"Desdemona\",\n",
    "#   \"Juliet\",\n",
    "#   \"Portia\",\n",
    "# \"Rosalind\",\n",
    "#  \"Belinda\",\n",
    "#     \"Puck\",\n",
    "#  \"Caliban\",\n",
    "#  \"Sycorax\",\n",
    "# \"Prospero\",\n",
    "#  \"Setebos\",\n",
    "# \"Stephano\",\n",
    "# \"Trinculo\",\n",
    "#\"Francisco\",\n",
    "# \"Margaret\",\n",
    "#\"Ferdinand\",\n",
    "#  \"Perdita\",\n",
    "#      \"Mab\",\n",
    "#    \"Cupid\",\n",
    "#    \"Uranus\"]\n",
    "\n",
    "# Create a plot\n",
    "\n",
    "plt.figure()\n",
    "centerPlanet = \"Sun\"\n",
    "Centerdata = np.genfromtxt(os.path.join(data_directory, centerPlanet + \".txt\"), delimiter=',', usecols=(0,1, 2), names=[\"name\",\"x\", \"y\"])\n",
    "i = 0\n",
    "# Iterate through each planet and plot its data\n",
    "for planet in planets_to_load:\n",
    "    if planet != \"Europa\":\n",
    "        print(planet)\n",
    "        data = np.genfromtxt(os.path.join(data_directory, planet + \".txt\"), delimiter=',', usecols=(0,1, 2), names=[\"name\",\"x\", \"y\"])\n",
    "        plt.plot(data[\"x\"]-Centerdata[\"x\"], data[\"y\"]-Centerdata[\"y\"], label=planet)\n",
    "        #data[\"name\"] = planet\n",
    "\n",
    "\n",
    "plt.xlabel(\"X Coordinate\")\n",
    "plt.ylabel(\"Y Coordinate\")\n",
    "plt.title(\"Planet Orbits\")\n",
    "plt.grid(True)\n",
    "#plt.xlim([-5e11,5e11])\n",
    "#plt.ylim([-5e11,5e11])\n",
    "#plt.legend()\n",
    "\n",
    "# Save the plot as an SVG file\n",
    "plt.savefig(\"planet_orbits.svg\", format=\"svg\")\n",
    "\n",
    "plt.show()\n",
    "\n"
   ]
  },
  {
   "cell_type": "code",
   "execution_count": 230,
   "metadata": {},
   "outputs": [
    {
     "data": {
      "text/plain": [
       "[<matplotlib.lines.Line2D at 0x15e14e8e9a0>]"
      ]
     },
     "execution_count": 230,
     "metadata": {},
     "output_type": "execute_result"
    },
    {
     "data": {
      "image/png": "[encoded data removed]",
      "text/plain": [
       "<Figure size 432x288 with 1 Axes>"
      ]
     },
     "metadata": {
      "needs_background": "light"
     },
     "output_type": "display_data"
    }
   ],
   "source": [
    "plt.figure()\n",
    "EnergyData = np.genfromtxt(\"EnergyOverTime.txt\",delimiter=\",\",usecols=(0,1,2,3),names=[\"time\",\"PE\", \"KE\",\"E\"])\n",
    "plt.plot(EnergyData[\"time\"],EnergyData[\"PE\"], label=\"PE\")\n",
    "plt.plot(EnergyData[\"time\"],EnergyData[\"KE\"], label=\"KE\")\n",
    "plt.plot(EnergyData[\"time\"],EnergyData[\"E\"], label=\"Energy\")"
   ]
  },
  {
   "cell_type": "code",
   "execution_count": 231,
   "metadata": {},
   "outputs": [
    {
     "data": {
      "text/plain": [
       "[<matplotlib.lines.Line2D at 0x15e11f1c100>]"
      ]
     },
     "execution_count": 231,
     "metadata": {},
     "output_type": "execute_result"
    },
    {
     "data": {
      "image/png": "[encoded data removed]",
      "text/plain": [
       "<Figure size 432x288 with 1 Axes>"
      ]
     },
     "metadata": {
      "needs_background": "light"
     },
     "output_type": "display_data"
    }
   ],
   "source": [
    "DPE = EnergyData[\"PE\"] - EnergyData[\"PE\"][0]\n",
    "DKE = EnergyData[\"KE\"] - EnergyData[\"KE\"][0]\n",
    "DE = EnergyData[\"E\"] - EnergyData[\"E\"][0]\n",
    "\n",
    "plt.plot(EnergyData[\"time\"],DPE, label=\"PE\")\n",
    "plt.plot(EnergyData[\"time\"],DKE, label=\"KE\")\n",
    "plt.plot(EnergyData[\"time\"],DE, label=\"Energy\")"
   ]
  },
  {
   "cell_type": "code",
   "execution_count": 232,
   "metadata": {},
   "outputs": [
    {
     "data": {
      "text/plain": [
       "[<matplotlib.lines.Line2D at 0x15e13aa8c10>]"
      ]
     },
     "execution_count": 232,
     "metadata": {},
     "output_type": "execute_result"
    },
    {
     "data": {
      "image/png": "[encoded data removed]",
      "text/plain": [
       "<Figure size 432x288 with 1 Axes>"
      ]
     },
     "metadata": {
      "needs_background": "light"
     },
     "output_type": "display_data"
    }
   ],
   "source": [
    "plt.figure()\n",
    "#Now do it without Mecury :)\n",
    "EnergyData = np.genfromtxt(\"EnergyOverTime.txt\",delimiter=\",\",usecols=(0,4,5,6),names=[\"time\",\"PE\", \"KE\",\"E\"])\n",
    "#plt.plot(EnergyData[\"time\"],EnergyData[\"PE\"], label=\"PE\")\n",
    "#plt.plot(EnergyData[\"time\"],EnergyData[\"KE\"], label=\"KE\")\n",
    "#plt.plot(EnergyData[\"time\"],EnergyData[\"E\"], label=\"Energy\")\n",
    "DPE = EnergyData[\"PE\"] - EnergyData[\"PE\"][0]\n",
    "DKE = EnergyData[\"KE\"] - EnergyData[\"KE\"][0]\n",
    "DE = EnergyData[\"E\"] - EnergyData[\"E\"][0]\n",
    "\n",
    "plt.plot(EnergyData[\"time\"],DPE, label=\"PE\")\n",
    "plt.plot(EnergyData[\"time\"],DKE, label=\"KE\")\n",
    "plt.plot(EnergyData[\"time\"],DE, label=\"Energy\")"
   ]
  },
  {
   "cell_type": "code",
   "execution_count": 233,
   "metadata": {},
   "outputs": [
    {
     "data": {
      "text/plain": [
       "(0.00035565588200778454, 1000.0)"
      ]
     },
     "execution_count": 233,
     "metadata": {},
     "output_type": "execute_result"
    },
    {
     "data": {
      "image/png": "[encoded data removed]",
      "text/plain": [
       "<Figure size 432x288 with 1 Axes>"
      ]
     },
     "metadata": {
      "needs_background": "light"
     },
     "output_type": "display_data"
    }
   ],
   "source": [
    "PosDiffData = np.genfromtxt(\"PlanetsEnd.txt\",delimiter=\",\",usecols=(0,1,2),names=[\"planet\",\"dr\",\"percentOff\"])\n",
    "bins = np.logspace(-3,3,25)\n",
    "np.insert(bins,0,0)\n",
    "plt.hist(PosDiffData[\"percentOff\"]*100, color='blue', alpha=0.7, bins=bins)\n",
    "plt.xscale(\"log\")\n",
    "plt.xlim([bins[1]/5,bins[-1]])"
   ]
  }
 ],
 "metadata": {
  "kernelspec": {
   "display_name": "Python 3",
   "language": "python",
   "name": "python3"
  },
  "language_info": {
   "codemirror_mode": {
    "name": "ipython",
    "version": 3
   },
   "file_extension": ".py",
   "mimetype": "text/x-python",
   "name": "python",
   "nbconvert_exporter": "python",
   "pygments_lexer": "ipython3",
   "version": "3.9.5"
  },
  "orig_nbformat": 4
 },
 "nbformat": 4,
 "nbformat_minor": 2
}
